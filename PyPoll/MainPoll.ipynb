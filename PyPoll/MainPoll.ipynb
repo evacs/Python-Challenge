{
 "cells": [
  {
   "cell_type": "code",
   "execution_count": 1,
   "id": "ba606798",
   "metadata": {},
   "outputs": [],
   "source": [
    "import csv \n",
    "import numpy as np\n"
   ]
  },
  {
   "cell_type": "code",
   "execution_count": 2,
   "id": "dc815028",
   "metadata": {},
   "outputs": [],
   "source": [
    "# making a list from the csv file\n",
    "vote_csv = \"Resources/election_data.csv\"\n",
    "\n",
    "vote_id = []\n",
    "county = []\n",
    "candidates = []\n",
    "\n",
    "with open(vote_csv, \"r\") as file:\n",
    "    reader = csv.reader(file)\n",
    "    next(reader)\n",
    "    for row in reader:        \n",
    "        vote_id.append(row[0])\n",
    "        county.append(row[1])\n",
    "        candidates.append(row[2])\n"
   ]
  },
  {
   "cell_type": "code",
   "execution_count": 3,
   "id": "0006b6e2",
   "metadata": {},
   "outputs": [
    {
     "name": "stdout",
     "output_type": "stream",
     "text": [
      "Charles Casper Stockham\n"
     ]
    }
   ],
   "source": [
    "print(candidates[1]) # test"
   ]
  },
  {
   "cell_type": "code",
   "execution_count": 4,
   "id": "48bcb20a",
   "metadata": {},
   "outputs": [
    {
     "data": {
      "text/plain": [
       "23"
      ]
     },
     "execution_count": 4,
     "metadata": {},
     "output_type": "execute_result"
    }
   ],
   "source": [
    "with open(\"ElectionResults.txt\", \"w\") as file:\n",
    "    file.write(\"Election Results\")\n",
    "\n",
    "file = open(\"ElectionResults.txt\", \"a\")\n",
    "file.write(\"\\n---------------------\\n\")"
   ]
  },
  {
   "cell_type": "code",
   "execution_count": 5,
   "id": "fd9f68ed",
   "metadata": {},
   "outputs": [
    {
     "name": "stdout",
     "output_type": "stream",
     "text": [
      "369711\n"
     ]
    },
    {
     "data": {
      "text/plain": [
       "23"
      ]
     },
     "execution_count": 5,
     "metadata": {},
     "output_type": "execute_result"
    }
   ],
   "source": [
    "total = len(vote_id) #getting amount of votes\n",
    "print(total)\n",
    "file.write(f\"Total Votes: {total}\")\n",
    "file.write(\"\\n---------------------\\n\")"
   ]
  },
  {
   "cell_type": "code",
   "execution_count": 6,
   "id": "960799e2",
   "metadata": {},
   "outputs": [],
   "source": [
    "# list of candidates\n",
    "def unique(list1):\n",
    "    unique = set(list1)\n",
    "    return list(unique)   \n"
   ]
  },
  {
   "cell_type": "code",
   "execution_count": 7,
   "id": "523d2ece",
   "metadata": {},
   "outputs": [],
   "source": [
    "cand = unique(candidates) #list of candidates"
   ]
  },
  {
   "cell_type": "code",
   "execution_count": 8,
   "id": "dae9253b",
   "metadata": {},
   "outputs": [],
   "source": [
    "# finding counts of candidates\n",
    "def count(lst1, name):\n",
    "    num = 0\n",
    "    for i in range(len(lst1)):\n",
    "        if lst1[i]==name:\n",
    "            num = num + 1\n",
    "    print (f\"{name} has {num} votes\")\n",
    "    return num\n",
    "                "
   ]
  },
  {
   "cell_type": "code",
   "execution_count": 9,
   "id": "9e5f925d",
   "metadata": {},
   "outputs": [
    {
     "name": "stdout",
     "output_type": "stream",
     "text": [
      "Charles Casper Stockham has 85213 votes\n",
      "Raymon Anthony Doane has 11606 votes\n",
      "Diana DeGette has 272892 votes\n"
     ]
    }
   ],
   "source": [
    "# finding the number of votes\n",
    "a = count(candidates, cand[0])\n",
    "b = count(candidates, cand[1])\n",
    "c = count(candidates, cand[2])"
   ]
  },
  {
   "cell_type": "code",
   "execution_count": 10,
   "id": "811182cd",
   "metadata": {},
   "outputs": [
    {
     "name": "stdout",
     "output_type": "stream",
     "text": [
      "85213\n"
     ]
    }
   ],
   "source": [
    "print(a) #test"
   ]
  },
  {
   "cell_type": "code",
   "execution_count": 11,
   "id": "813b70a1",
   "metadata": {},
   "outputs": [],
   "source": [
    "# Function to find percent of votes\n",
    "def percent(lst1, total, lst2):\n",
    "    lst3 = []\n",
    "    for i in range(len(lst1)):\n",
    "        per = round(lst1[i]/total*100,3)\n",
    "        lst3.append(per)\n",
    "        print (f\"{lst2[i]} has {per}% of the vote\")\n",
    "    return lst3\n",
    "        \n",
    "    \n",
    "    "
   ]
  },
  {
   "cell_type": "code",
   "execution_count": 12,
   "id": "b4222d39",
   "metadata": {},
   "outputs": [
    {
     "name": "stdout",
     "output_type": "stream",
     "text": [
      "Charles Casper Stockham has 23.049% of the vote\n",
      "Raymon Anthony Doane has 3.139% of the vote\n",
      "Diana DeGette has 73.812% of the vote\n"
     ]
    }
   ],
   "source": [
    "vote_counts = [a,b,c]\n",
    "perc_vote = percent(vote_counts, total, cand)"
   ]
  },
  {
   "cell_type": "code",
   "execution_count": 13,
   "id": "a0fba2d3",
   "metadata": {},
   "outputs": [
    {
     "name": "stdout",
     "output_type": "stream",
     "text": [
      "[23.049, 3.139, 73.812]\n"
     ]
    }
   ],
   "source": [
    "print(perc_vote) #test"
   ]
  },
  {
   "cell_type": "code",
   "execution_count": 14,
   "id": "b72140ea",
   "metadata": {},
   "outputs": [],
   "source": [
    "# finding  winner\n",
    "def winner(lst1,lst2):\n",
    "    max_per = max(lst1)\n",
    "    ind = lst1.index(max_per)\n",
    "    win = lst2[ind]\n",
    "    print(f\"{win} is the winner with {max_per}% votes.\")\n",
    "    return win\n",
    "        "
   ]
  },
  {
   "cell_type": "code",
   "execution_count": 15,
   "id": "e8feae4c",
   "metadata": {},
   "outputs": [
    {
     "name": "stdout",
     "output_type": "stream",
     "text": [
      "Diana DeGette is the winner with 73.812% votes.\n"
     ]
    }
   ],
   "source": [
    "win = winner(perc_vote, cand)"
   ]
  },
  {
   "cell_type": "code",
   "execution_count": 16,
   "id": "36d4f3b5",
   "metadata": {},
   "outputs": [
    {
     "name": "stdout",
     "output_type": "stream",
     "text": [
      "Charles Casper Stockham: 23.049% (85213)\n",
      "\n",
      "Raymon Anthony Doane: 3.139% (11606)\n",
      "\n",
      "Diana DeGette: 73.812% (272892)\n",
      "\n"
     ]
    }
   ],
   "source": [
    "for i in range(0,3):\n",
    "    print(f\"{cand[i]}: {perc_vote[i]}% ({vote_counts[i]})\\n\")\n",
    "    file.write(f\"{cand[i]}: {perc_vote[i]}% ({vote_counts[i]})\\n\")\n"
   ]
  },
  {
   "cell_type": "code",
   "execution_count": 17,
   "id": "5a731232",
   "metadata": {},
   "outputs": [],
   "source": [
    "file.write(\"\\n---------------------\\n\")\n",
    "file.write(f\"Winner: {win}\")\n",
    "file.write(\"\\n---------------------\\n\")\n",
    "file.close()"
   ]
  }
 ],
 "metadata": {
  "kernelspec": {
   "display_name": "Python 3",
   "language": "python",
   "name": "python3"
  },
  "language_info": {
   "codemirror_mode": {
    "name": "ipython",
    "version": 3
   },
   "file_extension": ".py",
   "mimetype": "text/x-python",
   "name": "python",
   "nbconvert_exporter": "python",
   "pygments_lexer": "ipython3",
   "version": "3.8.5"
  }
 },
 "nbformat": 4,
 "nbformat_minor": 5
}
