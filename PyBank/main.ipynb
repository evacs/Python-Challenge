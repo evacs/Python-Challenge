{
 "cells": [
  {
   "cell_type": "code",
   "execution_count": 1,
   "id": "89cb0024",
   "metadata": {},
   "outputs": [],
   "source": [
    "import csv\n",
    "import numpy as np"
   ]
  },
  {
   "cell_type": "code",
   "execution_count": 2,
   "id": "5a94509b",
   "metadata": {},
   "outputs": [
    {
     "data": {
      "text/plain": [
       "23"
      ]
     },
     "execution_count": 2,
     "metadata": {},
     "output_type": "execute_result"
    }
   ],
   "source": [
    "# creating file with new data\n",
    "with open(\"FinancialAnalysis.txt\", \"w\") as file:\n",
    "    file.write(\"Financial Analysis\")\n",
    "\n",
    "file = open(\"FinancialAnalysis.txt\", \"a\")\n",
    "file.write(\"\\n---------------------\\n\")"
   ]
  },
  {
   "cell_type": "code",
   "execution_count": 3,
   "id": "d6d73204",
   "metadata": {},
   "outputs": [],
   "source": [
    "# opening csv\n",
    "budget_csv = \"Resources/budget_data.csv\""
   ]
  },
  {
   "cell_type": "code",
   "execution_count": 4,
   "id": "d63bc14d",
   "metadata": {},
   "outputs": [],
   "source": [
    "# create 2d array from csv file\n",
    "def read(filename, skip_header=True):\n",
    "    data = []\n",
    "    with open(filename, 'r') as file:\n",
    "        reader = csv.reader(file)\n",
    "        if skip_header:\n",
    "            next(reader)  # Skip the header row\n",
    "        for row in reader:\n",
    "            data.append(row)\n",
    "    return data\n"
   ]
  },
  {
   "cell_type": "code",
   "execution_count": 5,
   "id": "233cfb1e",
   "metadata": {},
   "outputs": [],
   "source": [
    "budget_array = read(budget_csv)"
   ]
  },
  {
   "cell_type": "code",
   "execution_count": 6,
   "id": "8089a2d5",
   "metadata": {},
   "outputs": [
    {
     "name": "stdout",
     "output_type": "stream",
     "text": [
      "[1088983, -354534, 276622, -728133, 852993, 563721, -535208, 632349, -173744, 950741, -785750, -1194133, -589576, -883921, 443564, 837887, 1081472, 464033, -1066544, 323846, -806551, 487053, 1128811, 791398, 739367, -197825, 666016, 589771, 489290, -471439, 120417, 175347, 855449, 605195, -235220, 347138, 298510, 163254, 1141840, 542630, 99841, 752765, -252949, 914424, 679524, 514377, 462102, 159782, 878810, -946748, 340335, 292032, 502266, 265852, 851017, -549615, 290162, 755391, 1073202, 313000, 241132, 1036589, 853904, -388932, 982952, 537759, 547784, -496214, 854181, 934719, -288531, -184383, 659541, -1149123, 355882, 662284, 518681, -748256, -910775, 951227, 898241, -729004, -112209, 516313, 607208, 382539]\n"
     ]
    }
   ],
   "source": [
    "# making a 1d array with profits/losses and turning from string to array\n",
    "budget_values = []\n",
    "for i in range(len(budget_array)):\n",
    "    budget_values.append(int(budget_array[i][1]))\n",
    "#budget_array = np.array(budget_values)\n",
    "print(budget_values)\n",
    "    "
   ]
  },
  {
   "cell_type": "code",
   "execution_count": 7,
   "id": "8d76daa2",
   "metadata": {
    "scrolled": false
   },
   "outputs": [
    {
     "name": "stdout",
     "output_type": "stream",
     "text": [
      "86\n"
     ]
    },
    {
     "data": {
      "text/plain": [
       "17"
      ]
     },
     "execution_count": 7,
     "metadata": {},
     "output_type": "execute_result"
    }
   ],
   "source": [
    "#count how many items are in array\n",
    "months = len(budget_array)\n",
    "print(months)\n",
    "file.write(f\"Total Months: {months}\\n\")"
   ]
  },
  {
   "cell_type": "code",
   "execution_count": 8,
   "id": "53e1f679",
   "metadata": {},
   "outputs": [
    {
     "name": "stdout",
     "output_type": "stream",
     "text": [
      "22564198\n"
     ]
    },
    {
     "data": {
      "text/plain": [
       "17"
      ]
     },
     "execution_count": 8,
     "metadata": {},
     "output_type": "execute_result"
    }
   ],
   "source": [
    "# finding the total profit\n",
    "net = np.sum(budget_values)\n",
    "print(net)\n",
    "file.write(f\"Total: ${net}\\n\")"
   ]
  },
  {
   "cell_type": "code",
   "execution_count": 9,
   "id": "412bf7b4",
   "metadata": {},
   "outputs": [],
   "source": [
    "# finding the yearly change\n",
    "def changes(data):\n",
    "    diff = []   \n",
    "    for i in range(1, len(data)):\n",
    "        differences = data[i] - data[i - 1]\n",
    "        diff.append(differences)\n",
    "    \n",
    "    return diff\n"
   ]
  },
  {
   "cell_type": "code",
   "execution_count": 10,
   "id": "336c8f53",
   "metadata": {
    "scrolled": true
   },
   "outputs": [
    {
     "name": "stdout",
     "output_type": "stream",
     "text": [
      "-8311.11\n"
     ]
    },
    {
     "data": {
      "text/plain": [
       "26"
      ]
     },
     "execution_count": 10,
     "metadata": {},
     "output_type": "execute_result"
    }
   ],
   "source": [
    "change = changes(budget_values) # list of monthly changes\n",
    "ave_change = round(np.mean(change), 2) #average of that list\n",
    "print(ave_change)\n",
    "file.write(f\"Average Change: ${ave_change}\\n\")"
   ]
  },
  {
   "cell_type": "code",
   "execution_count": 11,
   "id": "d2bf9984",
   "metadata": {},
   "outputs": [],
   "source": [
    "# finding min and max changes\n",
    "max_increase = np.max(change)\n",
    "max_index = change.index(max_increase)\n",
    "max_decrease = np.min(change)\n",
    "min_index = change.index(max_decrease)"
   ]
  },
  {
   "cell_type": "code",
   "execution_count": 12,
   "id": "e33a1f27",
   "metadata": {
    "scrolled": false
   },
   "outputs": [
    {
     "name": "stdout",
     "output_type": "stream",
     "text": [
      "1862002\n",
      "Aug-16\n",
      "-1825558\n",
      "Feb-14\n"
     ]
    }
   ],
   "source": [
    "# finding the date of max/min change dates\n",
    "\n",
    "max_date = budget_array[max_index+1][0]\n",
    "print(max_increase)\n",
    "print(max_date)\n",
    "min_date = budget_array[min_index+1][0]\n",
    "print(max_decrease)\n",
    "print(min_date)\n"
   ]
  },
  {
   "cell_type": "code",
   "execution_count": 13,
   "id": "730debbb",
   "metadata": {},
   "outputs": [],
   "source": [
    "file.write(f\"Greatest Increase in Profits: {max_date} (${max_increase})\\n\")\n",
    "file.write(f\"Greatest Decrease in Profits: {min_date} (${max_decrease})\")\n",
    "file.close()"
   ]
  },
  {
   "cell_type": "code",
   "execution_count": null,
   "id": "9e8f217a",
   "metadata": {},
   "outputs": [],
   "source": []
  }
 ],
 "metadata": {
  "kernelspec": {
   "display_name": "Python 3",
   "language": "python",
   "name": "python3"
  },
  "language_info": {
   "codemirror_mode": {
    "name": "ipython",
    "version": 3
   },
   "file_extension": ".py",
   "mimetype": "text/x-python",
   "name": "python",
   "nbconvert_exporter": "python",
   "pygments_lexer": "ipython3",
   "version": "3.8.5"
  }
 },
 "nbformat": 4,
 "nbformat_minor": 5
}
